{
 "cells": [
  {
   "cell_type": "markdown",
   "id": "f7f5682a",
   "metadata": {},
   "source": [
    "1. Functions are advantagous as they turn complex code into simpler pieces. easy to use and most importantly, it performs the given task and returns the value.  "
   ]
  },
  {
   "cell_type": "markdown",
   "id": "b93edd4c",
   "metadata": {},
   "source": [
    "2. A code in a function runs when it is called. \n",
    "   for example:\n",
    "   in the given example when we wrote the program, when we called the funtion (test as mentioned) is called to get the output. "
   ]
  },
  {
   "cell_type": "code",
   "execution_count": 3,
   "id": "6b3693ee",
   "metadata": {},
   "outputs": [],
   "source": [
    "def test (n):\n",
    "    return n "
   ]
  },
  {
   "cell_type": "code",
   "execution_count": 4,
   "id": "7978cdbe",
   "metadata": {},
   "outputs": [
    {
     "data": {
      "text/plain": [
       "3"
      ]
     },
     "execution_count": 4,
     "metadata": {},
     "output_type": "execute_result"
    }
   ],
   "source": [
    "test(3)"
   ]
  },
  {
   "cell_type": "markdown",
   "id": "5c01445b",
   "metadata": {},
   "source": [
    "3. def name of the function (variables or any other parameters)\n",
    "   def is a keyword used in python to create any function, then mention the name with which you will call the fucntion and        within the brcakets mention the parameter. for example:\n",
    "   def test(a)\n",
    "   here def is the keyword an test is the name given to the function and a will be the parameter."
   ]
  },
  {
   "cell_type": "markdown",
   "id": "a222b230",
   "metadata": {},
   "source": [
    "4. The difference between a function and a function call is that function is code we write for a particular output and function    call is the calling the function to get the required output. for example:\n",
    "   def test (n):\n",
    "        return n \n",
    "   This is the code written using function\n",
    "    test (3)\n",
    "    3- output \n",
    "   This is calling the fucntion to get the requried output. "
   ]
  },
  {
   "cell_type": "markdown",
   "id": "c3469777",
   "metadata": {},
   "source": [
    "5. There is only one global scope. Basically global scope is written when we start the program and ends when it terminates. for    example:\n",
    "   a = 2 \n",
    "   b= 3 \n",
    "   def sum(a,b)        \n",
    "       return a + b\n",
    "   sum (2,3)\n",
    "   output= 5 \n",
    "   here the values given to the variables are the global scope.\n",
    "   local scope considers all the variables that are written whithin a function and when its called it is executed. "
   ]
  },
  {
   "cell_type": "markdown",
   "id": "da45e1f2",
   "metadata": {},
   "source": [
    "6. The variables in a local scope when the function call returns you can see the output that is given after the termination the    program written after the funtion. \n",
    "   def sum (a, b)\n",
    "        return a + b \n",
    "   here, after the variables are assigned fot instact a = 2 and b= 3 then the output will be 5. Hence, the value that is given    to the variable is assigned and gives the required output when it is called \n",
    "    sum (2, 3)\n",
    "    output= 5"
   ]
  },
  {
   "cell_type": "markdown",
   "id": "d9b9d93a",
   "metadata": {},
   "source": [
    "7. Return function is called to end the execution of the function, and to give required output to the caller. Yes, it is         possible to have a return value in an expression. "
   ]
  },
  {
   "cell_type": "markdown",
   "id": "9ab8fa5e",
   "metadata": {},
   "source": [
    "8.  If a function does not have a return statement it returns none. As calling function uses return value when that is not          called then the output is none. "
   ]
  },
  {
   "cell_type": "code",
   "execution_count": 15,
   "id": "bdb5e055",
   "metadata": {},
   "outputs": [],
   "source": [
    "9. \n",
    "x = \"a\"\n",
    "\n",
    "def test():\n",
    "    global x\n",
    "    x= \"fantastic\"\n",
    "\n",
    "    return (\"Python is \" + x)\n"
   ]
  },
  {
   "cell_type": "code",
   "execution_count": 13,
   "id": "22bc674b",
   "metadata": {},
   "outputs": [
    {
     "data": {
      "text/plain": [
       "'Python is fantastic'"
      ]
     },
     "execution_count": 13,
     "metadata": {},
     "output_type": "execute_result"
    }
   ],
   "source": [
    "test()"
   ]
  },
  {
   "cell_type": "markdown",
   "id": "f6f67ce6",
   "metadata": {},
   "source": [
    "Here we can see that we are using a global keywprd to include a variable in a function. "
   ]
  },
  {
   "cell_type": "markdown",
   "id": "b5fd6a61",
   "metadata": {},
   "source": [
    "10. Nonetype is used to represent a nul value. It has it's own datatype called as nontype. "
   ]
  },
  {
   "cell_type": "markdown",
   "id": "0811b2db",
   "metadata": {},
   "source": [
    "11. areallyourpetsnamederic this imports a module name. "
   ]
  },
  {
   "cell_type": "markdown",
   "id": "33852a21",
   "metadata": {},
   "source": [
    "12. If we had a bacon() feature in a spam module, after importing spam we must also import the module as well as function. then this helps to import the other utilities of the same function. "
   ]
  },
  {
   "cell_type": "markdown",
   "id": "a7834bdd",
   "metadata": {},
   "source": [
    "13. To save a programme from crashing if it encounters an error we must handle the errors by whatching out why the error has       occured and steadily solve one by one errors that occured.  "
   ]
  },
  {
   "cell_type": "markdown",
   "id": "26b39d3f",
   "metadata": {},
   "source": [
    "14. The try clause is used check some code with errors, Here the code gets executed only when this doesn't have any errors. The     purpose of the except clause is that it returns the rows which are not available in the second select statement. "
   ]
  }
 ],
 "metadata": {
  "kernelspec": {
   "display_name": "Python 3 (ipykernel)",
   "language": "python",
   "name": "python3"
  },
  "language_info": {
   "codemirror_mode": {
    "name": "ipython",
    "version": 3
   },
   "file_extension": ".py",
   "mimetype": "text/x-python",
   "name": "python",
   "nbconvert_exporter": "python",
   "pygments_lexer": "ipython3",
   "version": "3.9.12"
  }
 },
 "nbformat": 4,
 "nbformat_minor": 5
}
